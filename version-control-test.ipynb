name = input("Enter your name: ")
age = int(input("Enter your age: "))
message = f"Hello {name}, it is really cool that you are {str(age)} years old"

print(message)
